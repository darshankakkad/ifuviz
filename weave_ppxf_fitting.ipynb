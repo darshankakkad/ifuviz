{
 "cells": [
  {
   "cell_type": "code",
   "execution_count": 2,
   "id": "c93fb5e8",
   "metadata": {},
   "outputs": [],
   "source": [
    "import sys\n",
    "import astropy.io.fits as pyfits\n",
    "import numpy as np\n",
    "import matplotlib.pyplot as plt\n",
    "from os import path\n",
    "from ppxf.ppxf import ppxf, robust_sigma\n",
    "import ppxf.ppxf_util as util\n",
    "import ppxf.miles_util as lib\n",
    "from vorbin.voronoi_2d_binning import voronoi_2d_binning\n",
    "from plotbin.display_bins import display_bins\n",
    "from plotbin.plot_velfield import plot_velfield\n",
    "from scipy.constants import c\n",
    "C = c/1000 #299792.458  # speed of light in km/s"
   ]
  },
  {
   "cell_type": "code",
   "execution_count": 3,
   "id": "416e139a",
   "metadata": {},
   "outputs": [],
   "source": [
    "class read_muse_cube(object):\n",
    "    def __init__(self,filename,wave_range,z):\n",
    "        \"\"\"\n",
    "        Adapting Cappellari PPXF MUSE example to WEAVE data\n",
    "        \n",
    "        \"\"\"  \n",
    "        hdu = pyfits.open(filename)\n",
    "        head = hdu[1].header\n",
    "        cube = hdu[1].data  \n",
    "\n",
    "        # Transform cube into 2-dim array of spectra\n",
    "        npix = cube.shape[0]\n",
    "        #spectra = cube.reshape(npix, -1) # create array of spectra [npix, nx*ny]\n",
    "        wave = (head['CRVAL3'] + head['CD3_3']*np.arange(npix))   \n",
    "        pixsize = abs(head[\"CD1_1\"])*3600    # 0.2\"\n",
    "\n",
    "        # Only use a restricted wavelength range\n",
    "        w = (wave > wave_range[0]) & (wave < wave_range[1])\n",
    "        spectra = cube[w,:,:]\n",
    "        \n",
    "        wave = wave[w]/(1+z)\n",
    "\n",
    "        # Create coordinates centred on the brightest spectrum\n",
    "        flux = np.nanmean(spectra, 0)\n",
    "        jm = np.argmax(flux)\n",
    "        row, col = map(np.ravel, np.indices(cube.shape[-2:]))\n",
    "        x = (col - col[jm])*pixsize\n",
    "        y = (row - row[jm])*pixsize\n",
    "        velscale = 46.27319167       #C*np.diff(np.log(wave[-2:])) # Smallest velocity step\n",
    "        lam_range_temp = [np.min(wave), np.max(wave)]\n",
    "        spectra, ln_lam_gal, velscale = util.log_rebin(lam_range_temp, spectra, velscale=velscale)\n",
    "        Nz,Ny,Nx=np.shape(spectra)\n",
    "        \n",
    "        self.spectra = spectra\n",
    "        self.nx=Nx\n",
    "        self.ny=Ny\n",
    "        self.x = x\n",
    "        self.y = y\n",
    "        self.col = col + 1   # start counting from 1\n",
    "        self.row = row + 1\n",
    "        self.flux = flux\n",
    "        self.ln_lam_gal = ln_lam_gal\n",
    "        self.fwhm_gal = 1.07 # to be checked: FWHM spectral resolution of WEAVE in A."
   ]
  },
  {
   "cell_type": "code",
   "execution_count": 4,
   "id": "caee2b6a",
   "metadata": {},
   "outputs": [],
   "source": [
    "def fit_and_clean(templates, galaxy, velscale, start, goodpixels0, lam, lam_temp):\n",
    "    \n",
    "    print('##############################################################')\n",
    "    goodpixels = goodpixels0.copy()\n",
    "    pp = ppxf(templates, galaxy, np.ones_like(galaxy), velscale, start,\n",
    "              moments=2, degree=-1, mdegree=4, lam=lam, lam_temp=lam_temp,\n",
    "              goodpixels=goodpixels)\n",
    "\n",
    "    optimal_template = templates @ pp.weights\n",
    "    \n",
    "    return pp, optimal_template"
   ]
  },
  {
   "cell_type": "code",
   "execution_count": 6,
   "id": "6c279a17",
   "metadata": {},
   "outputs": [],
   "source": [
    "lam_range_temp = [5792, 8975]   \n",
    "s = read_muse_cube('./mock_red_cube.fits',lam_range_temp,0)"
   ]
  },
  {
   "cell_type": "code",
   "execution_count": 7,
   "id": "23f3c6d7",
   "metadata": {},
   "outputs": [],
   "source": [
    "velscale=46.27319167"
   ]
  },
  {
   "cell_type": "code",
   "execution_count": 8,
   "id": "b03ff75c",
   "metadata": {},
   "outputs": [],
   "source": [
    "ppxf_dir = '/Users/dkakkad/miniconda3/envs/research/lib/python3.9/site-packages/ppxf'\n",
    "pathname = ppxf_dir + '/miles_models/Eun1.30*.fits'\n",
    "FWHM_gal = None   # set this to None to skip convolutions\n",
    "miles = lib.miles(pathname, velscale, FWHM_gal, norm_range=[5070, 5950])\n",
    "stars_templates, ln_lam_temp = miles.templates, miles.ln_lam_temp\n",
    "reg_dim = stars_templates.shape[1:]\n",
    "stars_templates = stars_templates.reshape(stars_templates.shape[0], -1)\n",
    "stars_templates /= np.median(stars_templates) # Normalizes stellar templates by a scalar\n",
    "regul_err = 0.01 # Desired regularization error"
   ]
  },
  {
   "cell_type": "code",
   "execution_count": 9,
   "id": "05ac7804",
   "metadata": {},
   "outputs": [],
   "source": [
    "#z = 0.002964\n",
    "z_og=0.0# redshift estimate from NED\n",
    "vel0 =0#C*np.log(1 + z)  # Initial estimate of the galaxy velocity in km/s. eq. (8) of Cappellari (2017)\n",
    "start = [vel0, 200.]  # (km/s), starting guess for [V,sigma]"
   ]
  },
  {
   "cell_type": "code",
   "execution_count": 10,
   "id": "9b9038b1",
   "metadata": {},
   "outputs": [],
   "source": [
    "lam_range_temp = np.exp(ln_lam_temp[[0, -1]])\n",
    "goodpixels0=np.arange(0,len(s.ln_lam_gal),1)\n",
    "filt_badpix=np.where(np.logical_and(s.ln_lam_gal>np.log(6530),s.ln_lam_gal<np.log(6605)) |\n",
    "                     np.logical_and(s.ln_lam_gal>np.log(7570),s.ln_lam_gal<np.log(7679)) |\n",
    "                     np.logical_and(s.ln_lam_gal>np.log(6698),s.ln_lam_gal<np.log(6739)) |\n",
    "                     np.logical_and(s.ln_lam_gal>np.log(6858),s.ln_lam_gal<np.log(6934)))\n",
    "goodpixels0=np.delete(goodpixels0,filt_badpix)"
   ]
  },
  {
   "cell_type": "code",
   "execution_count": 11,
   "id": "18d686b9",
   "metadata": {
    "scrolled": true
   },
   "outputs": [
    {
     "name": "stdout",
     "output_type": "stream",
     "text": [
      "##############################################################\n",
      " Best Fit:       Vel     sigma\n",
      " comp.  0:      -254        76\n",
      "chi2/DOF: 3.265e+04; DOF: 2552; degree = -1; mdegree = 4\n",
      "method = capfit; Jac calls: 14; Func calls: 101; Status: 2\n",
      "linear_method = lsq_box; Nonzero Templates (>0.1%): 4/150\n"
     ]
    },
    {
     "ename": "SystemExit",
     "evalue": "",
     "output_type": "error",
     "traceback": [
      "An exception has occurred, use %tb to see the full traceback.\n",
      "\u001b[0;31mSystemExit\u001b[0m\n"
     ]
    },
    {
     "name": "stderr",
     "output_type": "stream",
     "text": [
      "/Users/dkakkad/miniconda3/envs/research/lib/python3.9/site-packages/IPython/core/interactiveshell.py:3465: UserWarning: To exit: use 'exit', 'quit', or Ctrl-D.\n",
      "  warn(\"To exit: use 'exit', 'quit', or Ctrl-D.\", stacklevel=1)\n"
     ]
    },
    {
     "data": {
      "image/png": "[encoded data removed]",
      "text/plain": [
       "<Figure size 432x288 with 1 Axes>"
      ]
     },
     "metadata": {
      "needs_background": "light"
     },
     "output_type": "display_data"
    }
   ],
   "source": [
    "lam_gal = np.exp(s.ln_lam_gal)\n",
    "\n",
    "vel_gal=np.zeros((s.ny,s.nx))\n",
    "sig_gal=np.zeros((s.ny,s.nx))\n",
    "raw_cube_dat=np.zeros_like(s.spectra)\n",
    "stel_cont=np.zeros_like(s.spectra)\n",
    "\n",
    "for i in range(75,76):\n",
    "    for j in range(73,90):\n",
    "        galaxy=s.spectra[:,j,i]\n",
    "        pp, bestfit_template = fit_and_clean(stars_templates, galaxy, velscale, start, goodpixels0, \n",
    "                                             lam_gal, miles.lam_temp)\n",
    "        vel_gal[j,i],sig_gal[j,i]= pp.sol\n",
    "        raw_cube_dat[:,j,i]=pp.galaxy\n",
    "        stel_cont[:,j,i]=pp.bestfit\n",
    "        pp.plot()\n",
    "        sys.exit()"
   ]
  },
  {
   "cell_type": "code",
   "execution_count": 37,
   "id": "37e585f3",
   "metadata": {},
   "outputs": [
    {
     "data": {
      "text/plain": [
       "(70.0, 90.0)"
      ]
     },
     "execution_count": 37,
     "metadata": {},
     "output_type": "execute_result"
    },
    {
     "data": {
      "image/png": "[encoded data removed]",
      "text/plain": [
       "<Figure size 432x288 with 1 Axes>"
      ]
     },
     "metadata": {
      "needs_background": "light"
     },
     "output_type": "display_data"
    }
   ],
   "source": [
    "plt.imshow(vel_gal,origin=\"lower\",vmin=-258,vmax=-25)\n",
    "plt.xlim([70,90])\n",
    "plt.ylim([70,90])"
   ]
  },
  {
   "cell_type": "code",
   "execution_count": null,
   "id": "27d9f087",
   "metadata": {},
   "outputs": [],
   "source": []
  },
  {
   "cell_type": "code",
   "execution_count": null,
   "id": "5050c134",
   "metadata": {},
   "outputs": [],
   "source": []
  },
  {
   "cell_type": "code",
   "execution_count": null,
   "id": "16dd878b",
   "metadata": {},
   "outputs": [],
   "source": []
  },
  {
   "cell_type": "code",
   "execution_count": null,
   "id": "cc1f44d6",
   "metadata": {},
   "outputs": [],
   "source": []
  },
  {
   "cell_type": "code",
   "execution_count": null,
   "id": "22b28099",
   "metadata": {},
   "outputs": [],
   "source": []
  },
  {
   "cell_type": "code",
   "execution_count": null,
   "id": "ce5cd566",
   "metadata": {},
   "outputs": [],
   "source": []
  },
  {
   "cell_type": "code",
   "execution_count": null,
   "id": "fc850b85",
   "metadata": {},
   "outputs": [],
   "source": []
  }
 ],
 "metadata": {
  "kernelspec": {
   "display_name": "Python 3 (ipykernel)",
   "language": "python",
   "name": "python3"
  },
  "language_info": {
   "codemirror_mode": {
    "name": "ipython",
    "version": 3
   },
   "file_extension": ".py",
   "mimetype": "text/x-python",
   "name": "python",
   "nbconvert_exporter": "python",
   "pygments_lexer": "ipython3",
   "version": "3.9.7"
  }
 },
 "nbformat": 4,
 "nbformat_minor": 5
}
